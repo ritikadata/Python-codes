{
 "cells": [
  {
   "cell_type": "markdown",
   "id": "c448b3f9",
   "metadata": {},
   "source": [
    "##### ONE LINERS"
   ]
  },
  {
   "cell_type": "code",
   "execution_count": 1,
   "id": "e1829e3e",
   "metadata": {},
   "outputs": [
    {
     "data": {
      "text/plain": [
       "[5, 6, 7]"
      ]
     },
     "execution_count": 1,
     "metadata": {},
     "output_type": "execute_result"
    }
   ],
   "source": [
    "b=[50,60,70]\n",
    "[int(i/10) for i in b]"
   ]
  },
  {
   "cell_type": "code",
   "execution_count": 2,
   "id": "18cf1826",
   "metadata": {},
   "outputs": [
    {
     "data": {
      "text/plain": [
       "['on', 'va', 'ml']"
      ]
     },
     "execution_count": 2,
     "metadata": {},
     "output_type": "execute_result"
    }
   ],
   "source": [
    "a=['python','java','html']\n",
    "[i[-2:]for i in a]"
   ]
  },
  {
   "cell_type": "code",
   "execution_count": 3,
   "id": "059eaadd",
   "metadata": {},
   "outputs": [
    {
     "name": "stdout",
     "output_type": "stream",
     "text": [
      "number here4\n"
     ]
    },
    {
     "data": {
      "text/plain": [
       "[4, 8, 12, 16, 20, 24, 28, 32, 36, 40]"
      ]
     },
     "execution_count": 3,
     "metadata": {},
     "output_type": "execute_result"
    }
   ],
   "source": [
    "a=int(input('number here'))\n",
    "[a*i for i in range(1,11)]"
   ]
  },
  {
   "cell_type": "code",
   "execution_count": 4,
   "id": "944c49a5",
   "metadata": {},
   "outputs": [
    {
     "data": {
      "text/plain": [
       "[[60, 62], [70, 72], [80, 82]]"
      ]
     },
     "execution_count": 4,
     "metadata": {},
     "output_type": "execute_result"
    }
   ],
   "source": [
    "[[i+10,i+12] for i in b]  #for multiple outputs"
   ]
  },
  {
   "cell_type": "code",
   "execution_count": 5,
   "id": "34acff6c",
   "metadata": {},
   "outputs": [
    {
     "data": {
      "text/plain": [
       "{'integer': [12, 67, 2],\n",
       " 'text': ['ten', 'xuz'],\n",
       " 'decimal': [10.9, 78.9],\n",
       " 'bool': [True]}"
      ]
     },
     "execution_count": 5,
     "metadata": {},
     "output_type": "execute_result"
    }
   ],
   "source": [
    "i = [12, 'ten', 10.9, 67, 'xuz',78.9, 2,True]\n",
    "v = {'integer':[], 'text':[], 'decimal':[],'bool':[] }\n",
    "\n",
    "[v['integer'].append(k) if type(k)==int else v['text'].append(k) if type(k)==str else v['decimal'].append(k) if type(k)==float else v['bool'].append(k) for k in i]\n",
    "v\n"
   ]
  },
  {
   "cell_type": "markdown",
   "id": "5a5f6cdd",
   "metadata": {},
   "source": [
    "##### WHILE LOOP"
   ]
  },
  {
   "cell_type": "code",
   "execution_count": 6,
   "id": "78f1aabe",
   "metadata": {},
   "outputs": [
    {
     "name": "stdout",
     "output_type": "stream",
     "text": [
      "this is a infinite loop\n",
      "this is a infinite loop\n",
      "this is a infinite loop\n"
     ]
    }
   ],
   "source": [
    "i=2\n",
    "while i<5:\n",
    "    print('this is a infinite loop')\n",
    "    i+=1 #i=i+1\n",
    "    #break "
   ]
  },
  {
   "cell_type": "code",
   "execution_count": 7,
   "id": "c44389d2",
   "metadata": {},
   "outputs": [
    {
     "name": "stdout",
     "output_type": "stream",
     "text": [
      "1\n",
      "after break 2\n",
      "2\n",
      "after break 3\n",
      "3\n"
     ]
    }
   ],
   "source": [
    "i=1\n",
    "while i<6:\n",
    "    print(i)\n",
    "    if i==3:\n",
    "        break\n",
    "    i+=1\n",
    "    print('after break',i)"
   ]
  },
  {
   "cell_type": "code",
   "execution_count": 8,
   "id": "bc34eecf",
   "metadata": {},
   "outputs": [
    {
     "name": "stdout",
     "output_type": "stream",
     "text": [
      "1\n",
      "2\n",
      "3\n",
      "4\n"
     ]
    }
   ],
   "source": [
    "l=[1,2,3,4]\n",
    "for i in l:\n",
    "    while i<5:\n",
    "        print(i)\n",
    "        break  #this is an Infinite Loop"
   ]
  },
  {
   "cell_type": "code",
   "execution_count": 9,
   "id": "00b775ae",
   "metadata": {},
   "outputs": [],
   "source": [
    "#IN WHILE LOOP YOU NEED TO GIVE COMMAND +=1 IF YOU WANT TO PROCCED TO NEXT NUMBER "
   ]
  },
  {
   "cell_type": "code",
   "execution_count": 10,
   "id": "e8d06759",
   "metadata": {},
   "outputs": [
    {
     "data": {
      "text/plain": [
       "{'My': 2,\n",
       " 'nam': 1,\n",
       " 'is': 1,\n",
       " 'one': 1,\n",
       " 'of': 2,\n",
       " 'a': 1,\n",
       " 'kind': 1,\n",
       " 'but': 1,\n",
       " 'not': 1,\n",
       " 'multiple': 1,\n",
       " 'people': 1,\n",
       " 'have': 1,\n",
       " 'this': 2,\n",
       " 'name': 1,\n",
       " 'and': 1,\n",
       " 'unique': 1}"
      ]
     },
     "execution_count": 10,
     "metadata": {},
     "output_type": "execute_result"
    }
   ],
   "source": [
    "twister = 'My My nam is one of a kind but not multiple people have this name and of this unique'\n",
    "\n",
    "word_count = {}\n",
    "\n",
    "for w in twister.split() :\n",
    "    if w not in word_count:\n",
    "        word_count[w] = 1\n",
    "    else:\n",
    "        word_count[w] += 1 #w=w+1\n",
    "word_count"
   ]
  },
  {
   "cell_type": "code",
   "execution_count": 11,
   "id": "c2175180",
   "metadata": {},
   "outputs": [],
   "source": [
    "#DATE"
   ]
  },
  {
   "cell_type": "code",
   "execution_count": 15,
   "id": "4e83768c",
   "metadata": {},
   "outputs": [],
   "source": [
    "import pandas as pd\n",
    "import numpy as np"
   ]
  },
  {
   "cell_type": "code",
   "execution_count": 13,
   "id": "c2c99e7d",
   "metadata": {},
   "outputs": [],
   "source": [
    "dates=pd.date_range(start='02-02-2022',end='9-02-2022',freq='22D')"
   ]
  },
  {
   "cell_type": "code",
   "execution_count": 16,
   "id": "502ba510",
   "metadata": {},
   "outputs": [],
   "source": [
    "df=pd.DataFrame(np.random.randint(low=20,high=30,size=(10,3)),index=dates,columns=list('DEF'))"
   ]
  },
  {
   "cell_type": "code",
   "execution_count": 17,
   "id": "2d54b7d5",
   "metadata": {},
   "outputs": [
    {
     "data": {
      "text/html": [
       "<div>\n",
       "<style scoped>\n",
       "    .dataframe tbody tr th:only-of-type {\n",
       "        vertical-align: middle;\n",
       "    }\n",
       "\n",
       "    .dataframe tbody tr th {\n",
       "        vertical-align: top;\n",
       "    }\n",
       "\n",
       "    .dataframe thead th {\n",
       "        text-align: right;\n",
       "    }\n",
       "</style>\n",
       "<table border=\"1\" class=\"dataframe\">\n",
       "  <thead>\n",
       "    <tr style=\"text-align: right;\">\n",
       "      <th></th>\n",
       "      <th>D</th>\n",
       "      <th>E</th>\n",
       "      <th>F</th>\n",
       "    </tr>\n",
       "  </thead>\n",
       "  <tbody>\n",
       "    <tr>\n",
       "      <th>2022-02-02</th>\n",
       "      <td>20</td>\n",
       "      <td>24</td>\n",
       "      <td>24</td>\n",
       "    </tr>\n",
       "    <tr>\n",
       "      <th>2022-02-24</th>\n",
       "      <td>25</td>\n",
       "      <td>25</td>\n",
       "      <td>23</td>\n",
       "    </tr>\n",
       "    <tr>\n",
       "      <th>2022-03-18</th>\n",
       "      <td>23</td>\n",
       "      <td>23</td>\n",
       "      <td>20</td>\n",
       "    </tr>\n",
       "    <tr>\n",
       "      <th>2022-04-09</th>\n",
       "      <td>22</td>\n",
       "      <td>22</td>\n",
       "      <td>21</td>\n",
       "    </tr>\n",
       "    <tr>\n",
       "      <th>2022-05-01</th>\n",
       "      <td>28</td>\n",
       "      <td>28</td>\n",
       "      <td>24</td>\n",
       "    </tr>\n",
       "    <tr>\n",
       "      <th>2022-05-23</th>\n",
       "      <td>20</td>\n",
       "      <td>22</td>\n",
       "      <td>25</td>\n",
       "    </tr>\n",
       "    <tr>\n",
       "      <th>2022-06-14</th>\n",
       "      <td>24</td>\n",
       "      <td>22</td>\n",
       "      <td>23</td>\n",
       "    </tr>\n",
       "    <tr>\n",
       "      <th>2022-07-06</th>\n",
       "      <td>26</td>\n",
       "      <td>20</td>\n",
       "      <td>22</td>\n",
       "    </tr>\n",
       "    <tr>\n",
       "      <th>2022-07-28</th>\n",
       "      <td>22</td>\n",
       "      <td>22</td>\n",
       "      <td>24</td>\n",
       "    </tr>\n",
       "    <tr>\n",
       "      <th>2022-08-19</th>\n",
       "      <td>22</td>\n",
       "      <td>20</td>\n",
       "      <td>28</td>\n",
       "    </tr>\n",
       "  </tbody>\n",
       "</table>\n",
       "</div>"
      ],
      "text/plain": [
       "             D   E   F\n",
       "2022-02-02  20  24  24\n",
       "2022-02-24  25  25  23\n",
       "2022-03-18  23  23  20\n",
       "2022-04-09  22  22  21\n",
       "2022-05-01  28  28  24\n",
       "2022-05-23  20  22  25\n",
       "2022-06-14  24  22  23\n",
       "2022-07-06  26  20  22\n",
       "2022-07-28  22  22  24\n",
       "2022-08-19  22  20  28"
      ]
     },
     "execution_count": 17,
     "metadata": {},
     "output_type": "execute_result"
    }
   ],
   "source": [
    "df"
   ]
  },
  {
   "cell_type": "code",
   "execution_count": 18,
   "id": "6e02518e",
   "metadata": {},
   "outputs": [
    {
     "data": {
      "text/html": [
       "<div>\n",
       "<style scoped>\n",
       "    .dataframe tbody tr th:only-of-type {\n",
       "        vertical-align: middle;\n",
       "    }\n",
       "\n",
       "    .dataframe tbody tr th {\n",
       "        vertical-align: top;\n",
       "    }\n",
       "\n",
       "    .dataframe thead th {\n",
       "        text-align: right;\n",
       "    }\n",
       "</style>\n",
       "<table border=\"1\" class=\"dataframe\">\n",
       "  <thead>\n",
       "    <tr style=\"text-align: right;\">\n",
       "      <th></th>\n",
       "      <th>D</th>\n",
       "      <th>E</th>\n",
       "      <th>F</th>\n",
       "    </tr>\n",
       "  </thead>\n",
       "  <tbody>\n",
       "    <tr>\n",
       "      <th>2022-08-19</th>\n",
       "      <td>22</td>\n",
       "      <td>20</td>\n",
       "      <td>28</td>\n",
       "    </tr>\n",
       "    <tr>\n",
       "      <th>2022-07-28</th>\n",
       "      <td>22</td>\n",
       "      <td>22</td>\n",
       "      <td>24</td>\n",
       "    </tr>\n",
       "    <tr>\n",
       "      <th>2022-07-06</th>\n",
       "      <td>26</td>\n",
       "      <td>20</td>\n",
       "      <td>22</td>\n",
       "    </tr>\n",
       "    <tr>\n",
       "      <th>2022-06-14</th>\n",
       "      <td>24</td>\n",
       "      <td>22</td>\n",
       "      <td>23</td>\n",
       "    </tr>\n",
       "    <tr>\n",
       "      <th>2022-05-23</th>\n",
       "      <td>20</td>\n",
       "      <td>22</td>\n",
       "      <td>25</td>\n",
       "    </tr>\n",
       "    <tr>\n",
       "      <th>2022-05-01</th>\n",
       "      <td>28</td>\n",
       "      <td>28</td>\n",
       "      <td>24</td>\n",
       "    </tr>\n",
       "    <tr>\n",
       "      <th>2022-04-09</th>\n",
       "      <td>22</td>\n",
       "      <td>22</td>\n",
       "      <td>21</td>\n",
       "    </tr>\n",
       "    <tr>\n",
       "      <th>2022-03-18</th>\n",
       "      <td>23</td>\n",
       "      <td>23</td>\n",
       "      <td>20</td>\n",
       "    </tr>\n",
       "    <tr>\n",
       "      <th>2022-02-24</th>\n",
       "      <td>25</td>\n",
       "      <td>25</td>\n",
       "      <td>23</td>\n",
       "    </tr>\n",
       "    <tr>\n",
       "      <th>2022-02-02</th>\n",
       "      <td>20</td>\n",
       "      <td>24</td>\n",
       "      <td>24</td>\n",
       "    </tr>\n",
       "  </tbody>\n",
       "</table>\n",
       "</div>"
      ],
      "text/plain": [
       "             D   E   F\n",
       "2022-08-19  22  20  28\n",
       "2022-07-28  22  22  24\n",
       "2022-07-06  26  20  22\n",
       "2022-06-14  24  22  23\n",
       "2022-05-23  20  22  25\n",
       "2022-05-01  28  28  24\n",
       "2022-04-09  22  22  21\n",
       "2022-03-18  23  23  20\n",
       "2022-02-24  25  25  23\n",
       "2022-02-02  20  24  24"
      ]
     },
     "execution_count": 18,
     "metadata": {},
     "output_type": "execute_result"
    }
   ],
   "source": [
    "df.sort_index(ascending=False)\n"
   ]
  },
  {
   "cell_type": "code",
   "execution_count": 19,
   "id": "3d026b4b",
   "metadata": {},
   "outputs": [
    {
     "data": {
      "text/html": [
       "<div>\n",
       "<style scoped>\n",
       "    .dataframe tbody tr th:only-of-type {\n",
       "        vertical-align: middle;\n",
       "    }\n",
       "\n",
       "    .dataframe tbody tr th {\n",
       "        vertical-align: top;\n",
       "    }\n",
       "\n",
       "    .dataframe thead th {\n",
       "        text-align: right;\n",
       "    }\n",
       "</style>\n",
       "<table border=\"1\" class=\"dataframe\">\n",
       "  <thead>\n",
       "    <tr style=\"text-align: right;\">\n",
       "      <th></th>\n",
       "      <th>D</th>\n",
       "      <th>E</th>\n",
       "      <th>F</th>\n",
       "    </tr>\n",
       "  </thead>\n",
       "  <tbody>\n",
       "    <tr>\n",
       "      <th>2022-05-23</th>\n",
       "      <td>20</td>\n",
       "      <td>22</td>\n",
       "      <td>25</td>\n",
       "    </tr>\n",
       "    <tr>\n",
       "      <th>2022-02-02</th>\n",
       "      <td>20</td>\n",
       "      <td>24</td>\n",
       "      <td>24</td>\n",
       "    </tr>\n",
       "    <tr>\n",
       "      <th>2022-08-19</th>\n",
       "      <td>22</td>\n",
       "      <td>20</td>\n",
       "      <td>28</td>\n",
       "    </tr>\n",
       "    <tr>\n",
       "      <th>2022-07-28</th>\n",
       "      <td>22</td>\n",
       "      <td>22</td>\n",
       "      <td>24</td>\n",
       "    </tr>\n",
       "    <tr>\n",
       "      <th>2022-04-09</th>\n",
       "      <td>22</td>\n",
       "      <td>22</td>\n",
       "      <td>21</td>\n",
       "    </tr>\n",
       "    <tr>\n",
       "      <th>2022-03-18</th>\n",
       "      <td>23</td>\n",
       "      <td>23</td>\n",
       "      <td>20</td>\n",
       "    </tr>\n",
       "    <tr>\n",
       "      <th>2022-06-14</th>\n",
       "      <td>24</td>\n",
       "      <td>22</td>\n",
       "      <td>23</td>\n",
       "    </tr>\n",
       "    <tr>\n",
       "      <th>2022-02-24</th>\n",
       "      <td>25</td>\n",
       "      <td>25</td>\n",
       "      <td>23</td>\n",
       "    </tr>\n",
       "    <tr>\n",
       "      <th>2022-07-06</th>\n",
       "      <td>26</td>\n",
       "      <td>20</td>\n",
       "      <td>22</td>\n",
       "    </tr>\n",
       "    <tr>\n",
       "      <th>2022-05-01</th>\n",
       "      <td>28</td>\n",
       "      <td>28</td>\n",
       "      <td>24</td>\n",
       "    </tr>\n",
       "  </tbody>\n",
       "</table>\n",
       "</div>"
      ],
      "text/plain": [
       "             D   E   F\n",
       "2022-05-23  20  22  25\n",
       "2022-02-02  20  24  24\n",
       "2022-08-19  22  20  28\n",
       "2022-07-28  22  22  24\n",
       "2022-04-09  22  22  21\n",
       "2022-03-18  23  23  20\n",
       "2022-06-14  24  22  23\n",
       "2022-02-24  25  25  23\n",
       "2022-07-06  26  20  22\n",
       "2022-05-01  28  28  24"
      ]
     },
     "execution_count": 19,
     "metadata": {},
     "output_type": "execute_result"
    }
   ],
   "source": [
    "df.sort_values(by=['D','F'],ascending=[1,0])"
   ]
  },
  {
   "cell_type": "markdown",
   "id": "577c7c1c",
   "metadata": {},
   "source": [
    "###### SETS"
   ]
  },
  {
   "cell_type": "code",
   "execution_count": 20,
   "id": "15f39065",
   "metadata": {},
   "outputs": [
    {
     "name": "stdout",
     "output_type": "stream",
     "text": [
      "{3, 'b', 'h', 4, 5, 'last_name', 50, 'a', 'name', 12222}\n"
     ]
    }
   ],
   "source": [
    "set1 = {'a',12222,3,4,5,'b','h'}\n",
    "\n",
    "s2 = {'a','b','name','last_name',50}\n",
    "\n",
    "set1.update(s2)\n",
    "\n",
    "\n",
    "\n",
    "\n",
    "print(set1)\n"
   ]
  },
  {
   "cell_type": "code",
   "execution_count": 21,
   "id": "76ef8974",
   "metadata": {},
   "outputs": [
    {
     "name": "stdout",
     "output_type": "stream",
     "text": [
      "{1, 2, 3, 'b', 5, 100, 7, 8, 9, 10, 200, 300, 'a'}\n",
      "{1, 2, 3, 100, 5, 'b', 7, 8, 9, 10, 200, 300, 'a'}\n",
      "{1, 2, 3, 100, 5, 'b', 7, 8, 9, 10, 200, 300, 'a'}\n"
     ]
    }
   ],
   "source": [
    "set1 ={1,2,3,7,8,7}\n",
    "set2 ={7,8,5,7,9,10}\n",
    "set3 ={100,200,300}\n",
    "set4 ={'a','b',}\n",
    "set3_1 =set1.union(set2,set4,set3)\n",
    "set4_1 =set1|set2|set3|set4                     #use union or update for combing all or pipe\n",
    "print(set3_1)\n",
    "print(set4_1)\n",
    "set1.update(set2,set3,set4)\n",
    "print(set1)"
   ]
  },
  {
   "cell_type": "code",
   "execution_count": 22,
   "id": "67183928",
   "metadata": {},
   "outputs": [
    {
     "name": "stdout",
     "output_type": "stream",
     "text": [
      "{18, 7}  {18, 7}\n"
     ]
    }
   ],
   "source": [
    "set1 = {1,2,3,7,18,7}\n",
    "set2 = {7,18,5,7,9,10}\n",
    "set3 = {1,7,18,3}\n",
    "set4 = {7,'b',18}                                   #for finding common from all\n",
    "\n",
    "set5 = set1 & set2 & set3 & set4\n",
    "\n",
    "set6 = set1.intersection(set2,set3,set4)\n",
    "\n",
    "print(set5,  \"\" ,set6)\n"
   ]
  },
  {
   "cell_type": "code",
   "execution_count": 23,
   "id": "eae27ff7",
   "metadata": {},
   "outputs": [
    {
     "name": "stdout",
     "output_type": "stream",
     "text": [
      "True\n",
      "{1, 2, 3, 5, 9, 10} {1, 3, 5, 8, 9, 10} {2, 8}\n"
     ]
    }
   ],
   "source": [
    "set1 = {1,2,3,7,8,7} # 1,2,3\n",
    "set2 = {7,8,5,7,9,10} # 9,10\n",
    "set3 = {1,7,3}\n",
    "                                          #symmetric difference is used for finding uncommon elements from all sets\n",
    "set7 = set1.symmetric_difference(set2)\n",
    "set8 = set3.symmetric_difference(set2)\n",
    "set9 =set3.symmetric_difference(set1)\n",
    "print(set3.issubset(set1))\n",
    "\n",
    "print(set7,set8,set9)\n"
   ]
  },
  {
   "cell_type": "markdown",
   "id": "6ff68fde",
   "metadata": {},
   "source": [
    "##### DEF"
   ]
  },
  {
   "cell_type": "code",
   "execution_count": 24,
   "id": "44b81983",
   "metadata": {},
   "outputs": [
    {
     "name": "stdout",
     "output_type": "stream",
     "text": [
      "7\n",
      "15.9\n",
      "71.9\n"
     ]
    }
   ],
   "source": [
    "def fn(*a):\n",
    "    s =0\n",
    "    for i in a:\n",
    "        s=s+i\n",
    "        print(s)\n",
    "fn(7,8.9,56)"
   ]
  },
  {
   "cell_type": "code",
   "execution_count": 25,
   "id": "3a495c3c",
   "metadata": {},
   "outputs": [
    {
     "data": {
      "text/plain": [
       "34"
      ]
     },
     "execution_count": 25,
     "metadata": {},
     "output_type": "execute_result"
    }
   ],
   "source": [
    "def fn(a,b,c,d):\n",
    "    if a>b:\n",
    "        return(a)\n",
    "    elif b>c>d:\n",
    "         return(b)\n",
    "    else:\n",
    "        return(c)\n",
    "fn(34,6,0,-9) "
   ]
  },
  {
   "cell_type": "code",
   "execution_count": 26,
   "id": "291b7cd5",
   "metadata": {},
   "outputs": [
    {
     "data": {
      "text/plain": [
       "{'city': 'delhi'}"
      ]
     },
     "execution_count": 26,
     "metadata": {},
     "output_type": "execute_result"
    }
   ],
   "source": [
    "# **kwargs\n",
    "def fn(**a):\n",
    "    f = {}\n",
    "    for i in a.keys():\n",
    "          if i == 'city':\n",
    "                f[i]=a[i]\n",
    "                \n",
    "                                          #            f[i]=a[i]\n",
    "            \n",
    "    return f\n",
    "            \n",
    "op = fn(id_1 = 'python', city = 'delhi', country = 'india', year = 2022)\n",
    "op"
   ]
  },
  {
   "cell_type": "markdown",
   "id": "28da70d1",
   "metadata": {},
   "source": [
    "###### LAMBDA"
   ]
  },
  {
   "cell_type": "code",
   "execution_count": 28,
   "id": "1877876d",
   "metadata": {},
   "outputs": [
    {
     "name": "stdout",
     "output_type": "stream",
     "text": [
      "11\n"
     ]
    }
   ],
   "source": [
    "c=(lambda x,y: x**3 + y)\n",
    "d=(lambda x,y:x+y)\n",
    "print(c(2,3))\n",
    "\n"
   ]
  },
  {
   "cell_type": "code",
   "execution_count": 29,
   "id": "eee115c9",
   "metadata": {},
   "outputs": [
    {
     "data": {
      "text/plain": [
       "['simi', 'sassy', 'duggu', 'onnu']"
      ]
     },
     "execution_count": 29,
     "metadata": {},
     "output_type": "execute_result"
    }
   ],
   "source": [
    "l = ['sam','simi','sassy','ora','duggu','onnu']\n",
    "name = list(filter(lambda x: len(x)>=4,l))\n",
    "\n",
    "name"
   ]
  },
  {
   "cell_type": "code",
   "execution_count": 30,
   "id": "4908d0c8",
   "metadata": {},
   "outputs": [
    {
     "name": "stdout",
     "output_type": "stream",
     "text": [
      "['sam', 'simi', 'sassy', 'duggu']\n"
     ]
    }
   ],
   "source": [
    "l = ['sam','simi','sassy','ora','duggu','onnu']\n",
    "\n",
    "name = list(filter(lambda x : x.startswith('s')|x.startswith('d'), l)) # endswith\n",
    "print(name)"
   ]
  },
  {
   "cell_type": "code",
   "execution_count": 31,
   "id": "1a6219e8",
   "metadata": {},
   "outputs": [
    {
     "name": "stdout",
     "output_type": "stream",
     "text": [
      "\n",
      " Filter OP:  ['Alfred', 'Tabitha', 'William', 'Mandy']\n",
      "\n",
      " Map OP:  [True, True, True, False, True]\n",
      "\n",
      " Map OP:  ['Alfred', 'Tabitha', 'William', 'less characters', 'Mandy']\n",
      "\n",
      " Map OP:  ['Alfred', 'Tabitha', 'William', 'four', 'Mandy']\n"
     ]
    }
   ],
   "source": [
    "# Example having Both Filter and Map\n",
    "words=['Alfred', 'Tabitha', 'William', 'Alra','Mandy']\n",
    "\n",
    "# n = int(input('length of letters:'))\n",
    "\n",
    "long_words = list(filter(lambda x : len(x)>=5, words))\n",
    "print('\\n Filter OP: ',long_words)\n",
    "\n",
    "long_words_map = list(map(lambda x : len(x)>=5 , words))\n",
    "print('\\n Map OP: ',long_words_map)\n",
    "\n",
    "long_words_map = list(map(lambda x :  x if len(x)>=5 else 'less characters' , words))\n",
    "print('\\n Map OP: ',long_words_map)\n",
    "\n",
    "long_words_map = list(map(lambda x : x if len(x)>4 else 'four' if len(x)==4 else 'less characters' , words))\n",
    "print('\\n Map OP: ',long_words_map)\n"
   ]
  },
  {
   "cell_type": "markdown",
   "id": "5deb2355",
   "metadata": {},
   "source": [
    "#### ZIP"
   ]
  },
  {
   "cell_type": "code",
   "execution_count": 32,
   "id": "6b1e8544",
   "metadata": {},
   "outputs": [
    {
     "data": {
      "text/plain": [
       "array([1, 2, 4, 5, 8, 9])"
      ]
     },
     "metadata": {},
     "output_type": "display_data"
    },
    {
     "data": {
      "text/plain": [
       "array([1, 2, 1, 3, 1, 1], dtype=int64)"
      ]
     },
     "metadata": {},
     "output_type": "display_data"
    },
    {
     "data": {
      "text/plain": [
       "{1: 1, 2: 2, 4: 1, 5: 3, 8: 1, 9: 1}"
      ]
     },
     "metadata": {},
     "output_type": "display_data"
    }
   ],
   "source": [
    "arr1=np.array([[1,2,2],\n",
    "              [4,5,5],\n",
    "              [5,8,9]])\n",
    "ua, ac = np.unique(arr1, return_counts=True)\n",
    "display(ua,ac,dict(zip(ua,ac)))\n"
   ]
  },
  {
   "cell_type": "code",
   "execution_count": null,
   "id": "3695bd19",
   "metadata": {},
   "outputs": [],
   "source": [
    "APPLY FUNCTION"
   ]
  },
  {
   "cell_type": "code",
   "execution_count": 33,
   "id": "961b6e5f",
   "metadata": {},
   "outputs": [
    {
     "data": {
      "text/html": [
       "<div>\n",
       "<style scoped>\n",
       "    .dataframe tbody tr th:only-of-type {\n",
       "        vertical-align: middle;\n",
       "    }\n",
       "\n",
       "    .dataframe tbody tr th {\n",
       "        vertical-align: top;\n",
       "    }\n",
       "\n",
       "    .dataframe thead th {\n",
       "        text-align: right;\n",
       "    }\n",
       "</style>\n",
       "<table border=\"1\" class=\"dataframe\">\n",
       "  <thead>\n",
       "    <tr style=\"text-align: right;\">\n",
       "      <th></th>\n",
       "      <th>location</th>\n",
       "      <th>month</th>\n",
       "      <th>sales</th>\n",
       "    </tr>\n",
       "  </thead>\n",
       "  <tbody>\n",
       "    <tr>\n",
       "      <th>0</th>\n",
       "      <td>New York</td>\n",
       "      <td>Mar</td>\n",
       "      <td>12714</td>\n",
       "    </tr>\n",
       "    <tr>\n",
       "      <th>1</th>\n",
       "      <td>Michigan</td>\n",
       "      <td>Apr</td>\n",
       "      <td>89238</td>\n",
       "    </tr>\n",
       "    <tr>\n",
       "      <th>2</th>\n",
       "      <td>Atlanta</td>\n",
       "      <td>Jan</td>\n",
       "      <td>8161</td>\n",
       "    </tr>\n",
       "    <tr>\n",
       "      <th>3</th>\n",
       "      <td>Boston</td>\n",
       "      <td>Sep</td>\n",
       "      <td>5885</td>\n",
       "    </tr>\n",
       "    <tr>\n",
       "      <th>4</th>\n",
       "      <td>Birmingham</td>\n",
       "      <td>Mar</td>\n",
       "      <td>10000</td>\n",
       "    </tr>\n",
       "    <tr>\n",
       "      <th>5</th>\n",
       "      <td>Clanton</td>\n",
       "      <td>Feb</td>\n",
       "      <td>1714</td>\n",
       "    </tr>\n",
       "    <tr>\n",
       "      <th>6</th>\n",
       "      <td>Marion</td>\n",
       "      <td>Dec</td>\n",
       "      <td>9238</td>\n",
       "    </tr>\n",
       "    <tr>\n",
       "      <th>7</th>\n",
       "      <td>Atlantis</td>\n",
       "      <td>Nov</td>\n",
       "      <td>58161</td>\n",
       "    </tr>\n",
       "    <tr>\n",
       "      <th>8</th>\n",
       "      <td>Alaska</td>\n",
       "      <td>Feb</td>\n",
       "      <td>585</td>\n",
       "    </tr>\n",
       "    <tr>\n",
       "      <th>9</th>\n",
       "      <td>Arozona</td>\n",
       "      <td>Mar</td>\n",
       "      <td>10000</td>\n",
       "    </tr>\n",
       "    <tr>\n",
       "      <th>10</th>\n",
       "      <td>Pacfic</td>\n",
       "      <td>Aug</td>\n",
       "      <td>2714</td>\n",
       "    </tr>\n",
       "    <tr>\n",
       "      <th>11</th>\n",
       "      <td>Ontario</td>\n",
       "      <td>June</td>\n",
       "      <td>189238</td>\n",
       "    </tr>\n",
       "    <tr>\n",
       "      <th>12</th>\n",
       "      <td>Toronto</td>\n",
       "      <td>Jan</td>\n",
       "      <td>81651</td>\n",
       "    </tr>\n",
       "    <tr>\n",
       "      <th>13</th>\n",
       "      <td>Delhi</td>\n",
       "      <td>Oct</td>\n",
       "      <td>58855</td>\n",
       "    </tr>\n",
       "    <tr>\n",
       "      <th>14</th>\n",
       "      <td>London</td>\n",
       "      <td>Apr</td>\n",
       "      <td>1080</td>\n",
       "    </tr>\n",
       "    <tr>\n",
       "      <th>15</th>\n",
       "      <td>Texas</td>\n",
       "      <td>Sep</td>\n",
       "      <td>1714</td>\n",
       "    </tr>\n",
       "    <tr>\n",
       "      <th>16</th>\n",
       "      <td>Washington</td>\n",
       "      <td>Jul</td>\n",
       "      <td>2038</td>\n",
       "    </tr>\n",
       "    <tr>\n",
       "      <th>17</th>\n",
       "      <td>Florida</td>\n",
       "      <td>Jan</td>\n",
       "      <td>8161</td>\n",
       "    </tr>\n",
       "    <tr>\n",
       "      <th>18</th>\n",
       "      <td>Michigan</td>\n",
       "      <td>Oct</td>\n",
       "      <td>58185</td>\n",
       "    </tr>\n",
       "    <tr>\n",
       "      <th>19</th>\n",
       "      <td>New_Jersy</td>\n",
       "      <td>Apr</td>\n",
       "      <td>10015</td>\n",
       "    </tr>\n",
       "  </tbody>\n",
       "</table>\n",
       "</div>"
      ],
      "text/plain": [
       "       location month   sales\n",
       "0      New York   Mar   12714\n",
       "1     Michigan    Apr   89238\n",
       "2       Atlanta   Jan    8161\n",
       "3        Boston   Sep    5885\n",
       "4    Birmingham   Mar   10000\n",
       "5       Clanton   Feb    1714\n",
       "6       Marion    Dec    9238\n",
       "7      Atlantis   Nov   58161\n",
       "8        Alaska   Feb     585\n",
       "9       Arozona   Mar   10000\n",
       "10       Pacfic   Aug    2714\n",
       "11     Ontario   June  189238\n",
       "12      Toronto   Jan   81651\n",
       "13        Delhi   Oct   58855\n",
       "14       London   Apr    1080\n",
       "15        Texas   Sep    1714\n",
       "16  Washington    Jul    2038\n",
       "17      Florida   Jan    8161\n",
       "18     Michigan   Oct   58185\n",
       "19    New_Jersy   Apr   10015"
      ]
     },
     "execution_count": 33,
     "metadata": {},
     "output_type": "execute_result"
    }
   ],
   "source": [
    "df = pd.DataFrame([\n",
    "    ['New York','Mar',12714],\n",
    "    ['Michigan ','Apr',89238],\n",
    "    ['Atlanta','Jan',8161],\n",
    "    ['Boston','Sep',5885],\n",
    "    ['Birmingham','Mar',10000],\n",
    "    ['Clanton','Feb',1714],\n",
    "    ['Marion ','Dec',9238],\n",
    "    ['Atlantis','Nov',58161],\n",
    "    ['Alaska','Feb',585],\n",
    "    ['Arozona','Mar',10000],\n",
    "    ['Pacfic','Aug',2714],\n",
    "    ['Ontario ','June',189238],\n",
    "    ['Toronto','Jan',81651],\n",
    "    ['Delhi','Oct',58855],\n",
    "    ['London','Apr',1080],\n",
    "    ['Texas','Sep',1714],\n",
    "    ['Washington ','Jul',2038],\n",
    "    ['Florida','Jan',8161],\n",
    "    ['Michigan','Oct',58185],\n",
    "    ['New_Jersy','Apr',10015],\n",
    "  ],columns=['location','month','sales'])\n",
    "df"
   ]
  },
  {
   "cell_type": "code",
   "execution_count": 36,
   "id": "ea44ce2c",
   "metadata": {},
   "outputs": [],
   "source": [
    "def fn(x):\n",
    "    if x>50000:\n",
    "            return 'A'\n",
    "    elif 20000<x<50000: #20000\n",
    "             return 'B'\n",
    "    else:\n",
    "        return 'C'\n",
    "df['sales3']=df.sales.apply(fn)    #works like a for loop (iterates all values(similar to map fn))\n",
    "# df['sales4']=pd.Series(map(fn,df.sales))   #when done directly without apply fn"
   ]
  },
  {
   "cell_type": "code",
   "execution_count": 37,
   "id": "6c5b1d75",
   "metadata": {},
   "outputs": [
    {
     "data": {
      "text/html": [
       "<div>\n",
       "<style scoped>\n",
       "    .dataframe tbody tr th:only-of-type {\n",
       "        vertical-align: middle;\n",
       "    }\n",
       "\n",
       "    .dataframe tbody tr th {\n",
       "        vertical-align: top;\n",
       "    }\n",
       "\n",
       "    .dataframe thead th {\n",
       "        text-align: right;\n",
       "    }\n",
       "</style>\n",
       "<table border=\"1\" class=\"dataframe\">\n",
       "  <thead>\n",
       "    <tr style=\"text-align: right;\">\n",
       "      <th></th>\n",
       "      <th>location</th>\n",
       "      <th>month</th>\n",
       "      <th>sales</th>\n",
       "      <th>sales3</th>\n",
       "    </tr>\n",
       "  </thead>\n",
       "  <tbody>\n",
       "    <tr>\n",
       "      <th>0</th>\n",
       "      <td>New York</td>\n",
       "      <td>Mar</td>\n",
       "      <td>12714</td>\n",
       "      <td>C</td>\n",
       "    </tr>\n",
       "    <tr>\n",
       "      <th>1</th>\n",
       "      <td>Michigan</td>\n",
       "      <td>Apr</td>\n",
       "      <td>89238</td>\n",
       "      <td>A</td>\n",
       "    </tr>\n",
       "    <tr>\n",
       "      <th>2</th>\n",
       "      <td>Atlanta</td>\n",
       "      <td>Jan</td>\n",
       "      <td>8161</td>\n",
       "      <td>C</td>\n",
       "    </tr>\n",
       "    <tr>\n",
       "      <th>3</th>\n",
       "      <td>Boston</td>\n",
       "      <td>Sep</td>\n",
       "      <td>5885</td>\n",
       "      <td>C</td>\n",
       "    </tr>\n",
       "    <tr>\n",
       "      <th>4</th>\n",
       "      <td>Birmingham</td>\n",
       "      <td>Mar</td>\n",
       "      <td>10000</td>\n",
       "      <td>C</td>\n",
       "    </tr>\n",
       "    <tr>\n",
       "      <th>5</th>\n",
       "      <td>Clanton</td>\n",
       "      <td>Feb</td>\n",
       "      <td>1714</td>\n",
       "      <td>C</td>\n",
       "    </tr>\n",
       "    <tr>\n",
       "      <th>6</th>\n",
       "      <td>Marion</td>\n",
       "      <td>Dec</td>\n",
       "      <td>9238</td>\n",
       "      <td>C</td>\n",
       "    </tr>\n",
       "    <tr>\n",
       "      <th>7</th>\n",
       "      <td>Atlantis</td>\n",
       "      <td>Nov</td>\n",
       "      <td>58161</td>\n",
       "      <td>A</td>\n",
       "    </tr>\n",
       "    <tr>\n",
       "      <th>8</th>\n",
       "      <td>Alaska</td>\n",
       "      <td>Feb</td>\n",
       "      <td>585</td>\n",
       "      <td>C</td>\n",
       "    </tr>\n",
       "    <tr>\n",
       "      <th>9</th>\n",
       "      <td>Arozona</td>\n",
       "      <td>Mar</td>\n",
       "      <td>10000</td>\n",
       "      <td>C</td>\n",
       "    </tr>\n",
       "    <tr>\n",
       "      <th>10</th>\n",
       "      <td>Pacfic</td>\n",
       "      <td>Aug</td>\n",
       "      <td>2714</td>\n",
       "      <td>C</td>\n",
       "    </tr>\n",
       "    <tr>\n",
       "      <th>11</th>\n",
       "      <td>Ontario</td>\n",
       "      <td>June</td>\n",
       "      <td>189238</td>\n",
       "      <td>A</td>\n",
       "    </tr>\n",
       "    <tr>\n",
       "      <th>12</th>\n",
       "      <td>Toronto</td>\n",
       "      <td>Jan</td>\n",
       "      <td>81651</td>\n",
       "      <td>A</td>\n",
       "    </tr>\n",
       "    <tr>\n",
       "      <th>13</th>\n",
       "      <td>Delhi</td>\n",
       "      <td>Oct</td>\n",
       "      <td>58855</td>\n",
       "      <td>A</td>\n",
       "    </tr>\n",
       "    <tr>\n",
       "      <th>14</th>\n",
       "      <td>London</td>\n",
       "      <td>Apr</td>\n",
       "      <td>1080</td>\n",
       "      <td>C</td>\n",
       "    </tr>\n",
       "    <tr>\n",
       "      <th>15</th>\n",
       "      <td>Texas</td>\n",
       "      <td>Sep</td>\n",
       "      <td>1714</td>\n",
       "      <td>C</td>\n",
       "    </tr>\n",
       "    <tr>\n",
       "      <th>16</th>\n",
       "      <td>Washington</td>\n",
       "      <td>Jul</td>\n",
       "      <td>2038</td>\n",
       "      <td>C</td>\n",
       "    </tr>\n",
       "    <tr>\n",
       "      <th>17</th>\n",
       "      <td>Florida</td>\n",
       "      <td>Jan</td>\n",
       "      <td>8161</td>\n",
       "      <td>C</td>\n",
       "    </tr>\n",
       "    <tr>\n",
       "      <th>18</th>\n",
       "      <td>Michigan</td>\n",
       "      <td>Oct</td>\n",
       "      <td>58185</td>\n",
       "      <td>A</td>\n",
       "    </tr>\n",
       "    <tr>\n",
       "      <th>19</th>\n",
       "      <td>New_Jersy</td>\n",
       "      <td>Apr</td>\n",
       "      <td>10015</td>\n",
       "      <td>C</td>\n",
       "    </tr>\n",
       "  </tbody>\n",
       "</table>\n",
       "</div>"
      ],
      "text/plain": [
       "       location month   sales sales3\n",
       "0      New York   Mar   12714      C\n",
       "1     Michigan    Apr   89238      A\n",
       "2       Atlanta   Jan    8161      C\n",
       "3        Boston   Sep    5885      C\n",
       "4    Birmingham   Mar   10000      C\n",
       "5       Clanton   Feb    1714      C\n",
       "6       Marion    Dec    9238      C\n",
       "7      Atlantis   Nov   58161      A\n",
       "8        Alaska   Feb     585      C\n",
       "9       Arozona   Mar   10000      C\n",
       "10       Pacfic   Aug    2714      C\n",
       "11     Ontario   June  189238      A\n",
       "12      Toronto   Jan   81651      A\n",
       "13        Delhi   Oct   58855      A\n",
       "14       London   Apr    1080      C\n",
       "15        Texas   Sep    1714      C\n",
       "16  Washington    Jul    2038      C\n",
       "17      Florida   Jan    8161      C\n",
       "18     Michigan   Oct   58185      A\n",
       "19    New_Jersy   Apr   10015      C"
      ]
     },
     "execution_count": 37,
     "metadata": {},
     "output_type": "execute_result"
    }
   ],
   "source": [
    "df"
   ]
  },
  {
   "cell_type": "code",
   "execution_count": 38,
   "id": "a935df6f",
   "metadata": {},
   "outputs": [
    {
     "data": {
      "text/plain": [
       "0     c\n",
       "1     A\n",
       "2     c\n",
       "3     c\n",
       "4     c\n",
       "5     c\n",
       "6     c\n",
       "7     A\n",
       "8     c\n",
       "9     c\n",
       "10    c\n",
       "11    A\n",
       "12    A\n",
       "13    A\n",
       "14    c\n",
       "15    c\n",
       "16    c\n",
       "17    c\n",
       "18    A\n",
       "19    c\n",
       "Name: sales, dtype: object"
      ]
     },
     "execution_count": 38,
     "metadata": {},
     "output_type": "execute_result"
    }
   ],
   "source": [
    "df['sales'].apply(lambda x :  'A' if x>50000 else 'B' if x>20000 else 'c')"
   ]
  },
  {
   "cell_type": "code",
   "execution_count": 40,
   "id": "c7f1c33f",
   "metadata": {},
   "outputs": [],
   "source": [
    "#or\n",
    "df['sales4']=pd.Series(map((lambda x :  'A' if x>50000 else 'B' if (20000<x<50000) else 'c'),df.sales))"
   ]
  },
  {
   "cell_type": "code",
   "execution_count": 43,
   "id": "53865e33",
   "metadata": {},
   "outputs": [
    {
     "name": "stdout",
     "output_type": "stream",
     "text": [
      "abcd"
     ]
    }
   ],
   "source": [
    "x=['a','b','c','d']\n",
    "for i in x:\n",
    "    print(i,end='')   "
   ]
  },
  {
   "cell_type": "markdown",
   "id": "943d78fc",
   "metadata": {},
   "source": [
    "##### JOIN FN"
   ]
  },
  {
   "cell_type": "code",
   "execution_count": 44,
   "id": "4351ce02",
   "metadata": {},
   "outputs": [
    {
     "data": {
      "text/plain": [
       "['hello', 'there', 'sup', '?']"
      ]
     },
     "execution_count": 44,
     "metadata": {},
     "output_type": "execute_result"
    }
   ],
   "source": [
    "' '.join(['hello','there','sup','?']).split(' ')"
   ]
  },
  {
   "cell_type": "markdown",
   "id": "c578561d",
   "metadata": {},
   "source": [
    "##### LOC FN"
   ]
  },
  {
   "cell_type": "code",
   "execution_count": 48,
   "id": "3d6e2840",
   "metadata": {},
   "outputs": [
    {
     "data": {
      "text/plain": [
       "0      New York\n",
       "1     Michigan \n",
       "2       Atlanta\n",
       "3        Boston\n",
       "4    Birmingham\n",
       "Name: location, dtype: object"
      ]
     },
     "execution_count": 48,
     "metadata": {},
     "output_type": "execute_result"
    }
   ],
   "source": [
    "df.loc[0:4,'location']"
   ]
  },
  {
   "cell_type": "code",
   "execution_count": 49,
   "id": "1a92c52d",
   "metadata": {},
   "outputs": [
    {
     "data": {
      "text/html": [
       "<div>\n",
       "<style scoped>\n",
       "    .dataframe tbody tr th:only-of-type {\n",
       "        vertical-align: middle;\n",
       "    }\n",
       "\n",
       "    .dataframe tbody tr th {\n",
       "        vertical-align: top;\n",
       "    }\n",
       "\n",
       "    .dataframe thead th {\n",
       "        text-align: right;\n",
       "    }\n",
       "</style>\n",
       "<table border=\"1\" class=\"dataframe\">\n",
       "  <thead>\n",
       "    <tr style=\"text-align: right;\">\n",
       "      <th></th>\n",
       "      <th>sales</th>\n",
       "      <th>month</th>\n",
       "    </tr>\n",
       "  </thead>\n",
       "  <tbody>\n",
       "    <tr>\n",
       "      <th>6</th>\n",
       "      <td>9238</td>\n",
       "      <td>Dec</td>\n",
       "    </tr>\n",
       "    <tr>\n",
       "      <th>8</th>\n",
       "      <td>585</td>\n",
       "      <td>Feb</td>\n",
       "    </tr>\n",
       "    <tr>\n",
       "      <th>10</th>\n",
       "      <td>2714</td>\n",
       "      <td>Aug</td>\n",
       "    </tr>\n",
       "  </tbody>\n",
       "</table>\n",
       "</div>"
      ],
      "text/plain": [
       "    sales month\n",
       "6    9238   Dec\n",
       "8     585   Feb\n",
       "10   2714   Aug"
      ]
     },
     "execution_count": 49,
     "metadata": {},
     "output_type": "execute_result"
    }
   ],
   "source": [
    "df.loc[[6,8,10],['sales','month']]#In loc you can give column name"
   ]
  },
  {
   "cell_type": "code",
   "execution_count": 52,
   "id": "c80db4df",
   "metadata": {},
   "outputs": [
    {
     "data": {
      "text/html": [
       "<div>\n",
       "<style scoped>\n",
       "    .dataframe tbody tr th:only-of-type {\n",
       "        vertical-align: middle;\n",
       "    }\n",
       "\n",
       "    .dataframe tbody tr th {\n",
       "        vertical-align: top;\n",
       "    }\n",
       "\n",
       "    .dataframe thead th {\n",
       "        text-align: right;\n",
       "    }\n",
       "</style>\n",
       "<table border=\"1\" class=\"dataframe\">\n",
       "  <thead>\n",
       "    <tr style=\"text-align: right;\">\n",
       "      <th></th>\n",
       "      <th>month</th>\n",
       "      <th>sales</th>\n",
       "    </tr>\n",
       "  </thead>\n",
       "  <tbody>\n",
       "    <tr>\n",
       "      <th>6</th>\n",
       "      <td>Dec</td>\n",
       "      <td>9238</td>\n",
       "    </tr>\n",
       "    <tr>\n",
       "      <th>8</th>\n",
       "      <td>Feb</td>\n",
       "      <td>585</td>\n",
       "    </tr>\n",
       "    <tr>\n",
       "      <th>10</th>\n",
       "      <td>Aug</td>\n",
       "      <td>2714</td>\n",
       "    </tr>\n",
       "  </tbody>\n",
       "</table>\n",
       "</div>"
      ],
      "text/plain": [
       "   month  sales\n",
       "6    Dec   9238\n",
       "8    Feb    585\n",
       "10   Aug   2714"
      ]
     },
     "execution_count": 52,
     "metadata": {},
     "output_type": "execute_result"
    }
   ],
   "source": [
    "df.iloc[[6,8,10],[1,2]]#IN iloc you just give indexes"
   ]
  },
  {
   "cell_type": "code",
   "execution_count": null,
   "id": "a29044a2",
   "metadata": {},
   "outputs": [],
   "source": []
  }
 ],
 "metadata": {
  "kernelspec": {
   "display_name": "Python 3 (ipykernel)",
   "language": "python",
   "name": "python3"
  },
  "language_info": {
   "codemirror_mode": {
    "name": "ipython",
    "version": 3
   },
   "file_extension": ".py",
   "mimetype": "text/x-python",
   "name": "python",
   "nbconvert_exporter": "python",
   "pygments_lexer": "ipython3",
   "version": "3.9.7"
  }
 },
 "nbformat": 4,
 "nbformat_minor": 5
}
